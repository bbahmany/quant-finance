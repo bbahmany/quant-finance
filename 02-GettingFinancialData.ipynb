{
 "cells": [
  {
   "cell_type": "markdown",
   "metadata": {},
   "source": [
    "# Getting The Data\n",
    "\n",
    "#### Brian Bahmanyar\n"
   ]
  },
  {
   "cell_type": "markdown",
   "metadata": {},
   "source": [
    "___"
   ]
  },
  {
   "cell_type": "markdown",
   "metadata": {},
   "source": [
    "[Quandl](https://www.quandl.com) provides free daily financial data which will be used in the analyses to come. They also provide a free, but somewhat lackluster Python API."
   ]
  },
  {
   "cell_type": "code",
   "execution_count": 1,
   "metadata": {
    "collapsed": true
   },
   "outputs": [],
   "source": [
    "import numpy as np\n",
    "import pandas as pd\n",
    "import Quandl"
   ]
  },
  {
   "cell_type": "markdown",
   "metadata": {},
   "source": [
    "Below is a function written to serve as a wrapper around Quandl's Python API and provide some needed functionality."
   ]
  },
  {
   "cell_type": "code",
   "execution_count": 2,
   "metadata": {
    "collapsed": true
   },
   "outputs": [],
   "source": [
    "def get_adj_close(tickers, start, end=\"\", ratios=[], log_transforms=[]):\n",
    "    \"\"\"\n",
    "    Args:\n",
    "        tickers (list): collection of ticker symbols for which to collect adj. close \n",
    "                daily prices for\n",
    "        start (string, format: 2013-01-01): start date for which to collect prices after\n",
    "        end (string, format: 2013-01-01): optional end date, today if not specified\n",
    "        ratios (list): collection of tuples of tickers from 'tickers' list to calculate \n",
    "                price ratios for (the stock with larger mean is numerator)\n",
    "        log_transforms (list): collection of tickers from 'tickers' to include additional \n",
    "                natural log transformed copies\n",
    "    \n",
    "    Returns (dataframe): all adj. close prices, ratios, and log transforms specified\n",
    "    \"\"\" \n",
    "    result = {}\n",
    "    \n",
    "    for ticker in tickers:\n",
    "        try:\n",
    "            result[ticker] = Quandl.get('WIKI/'+ticker, trim_start=start, trim_end=end)['Adj. Close']\n",
    "        except DatasetNotFound:\n",
    "            print('ERROR:')\n",
    "            print(ticker, 'is not a vaild ticker')\n",
    "\n",
    "    for ratio in ratios:\n",
    "        try:\n",
    "            ticker1, ticker2 = ratio\n",
    "            if result[ticker1].mean() > result[ticker2].mean():\n",
    "                result[ticker1+'/'+ticker2] = result[ticker1]/result[ticker2]\n",
    "            else:\n",
    "                result[ticker2+'/'+ticker1] = result[ticker2]/result[ticker1]\n",
    "        except KeyError:\n",
    "            print('ERROR:')\n",
    "            print(ticker1, 'or', ticker2, 'are not in the list of specified tickers')\n",
    "    \n",
    "    for log_transform in log_transforms:\n",
    "        try:\n",
    "            result['ln('+log_transform+')'] = np.log(result[log_transform])\n",
    "        except KeyError:\n",
    "            print('ERROR:')\n",
    "            print(log_transform, 'is not in the list of specified tickers')\n",
    "    \n",
    "    return pd.DataFrame(result).dropna() # drop na here because of differences in lenght of history for stocks"
   ]
  },
  {
   "cell_type": "markdown",
   "metadata": {},
   "source": [
    "A copy of this function is placed into api_wrapper.py for use in other notebooks."
   ]
  },
  {
   "cell_type": "markdown",
   "metadata": {},
   "source": [
    "***"
   ]
  },
  {
   "cell_type": "markdown",
   "metadata": {},
   "source": [
    "### Usage"
   ]
  },
  {
   "cell_type": "code",
   "execution_count": 3,
   "metadata": {
    "collapsed": false
   },
   "outputs": [],
   "source": [
    "bundle = get_adj_close( ['FB', 'AMZN', 'AAPL', 'VZ', 'T', 'SBUX', 'NKE', 'CMG'], \n",
    "                           start='2013-01-01', \n",
    "                           ratios=[('FB','AMZN'), ('FB','AAPL'), ('VZ','T')],\n",
    "                           log_transforms=['FB', 'AMZN', 'AAPL'] )"
   ]
  },
  {
   "cell_type": "code",
   "execution_count": 4,
   "metadata": {
    "collapsed": false
   },
   "outputs": [
    {
     "data": {
      "text/html": [
       "<div>\n",
       "<table border=\"1\" class=\"dataframe\">\n",
       "  <thead>\n",
       "    <tr style=\"text-align: right;\">\n",
       "      <th></th>\n",
       "      <th>AAPL</th>\n",
       "      <th>AAPL/FB</th>\n",
       "      <th>AMZN</th>\n",
       "      <th>AMZN/FB</th>\n",
       "      <th>CMG</th>\n",
       "      <th>FB</th>\n",
       "      <th>NKE</th>\n",
       "      <th>SBUX</th>\n",
       "      <th>T</th>\n",
       "      <th>VZ</th>\n",
       "      <th>VZ/T</th>\n",
       "      <th>ln(AAPL)</th>\n",
       "      <th>ln(AMZN)</th>\n",
       "      <th>ln(FB)</th>\n",
       "    </tr>\n",
       "    <tr>\n",
       "      <th>Date</th>\n",
       "      <th></th>\n",
       "      <th></th>\n",
       "      <th></th>\n",
       "      <th></th>\n",
       "      <th></th>\n",
       "      <th></th>\n",
       "      <th></th>\n",
       "      <th></th>\n",
       "      <th></th>\n",
       "      <th></th>\n",
       "      <th></th>\n",
       "      <th></th>\n",
       "      <th></th>\n",
       "      <th></th>\n",
       "    </tr>\n",
       "  </thead>\n",
       "  <tbody>\n",
       "    <tr>\n",
       "      <th>2013-01-02</th>\n",
       "      <td>73.295822</td>\n",
       "      <td>2.617708</td>\n",
       "      <td>257.31</td>\n",
       "      <td>9.189643</td>\n",
       "      <td>301.06</td>\n",
       "      <td>28.00</td>\n",
       "      <td>25.070117</td>\n",
       "      <td>26.504768</td>\n",
       "      <td>30.260352</td>\n",
       "      <td>41.463123</td>\n",
       "      <td>1.370213</td>\n",
       "      <td>4.294504</td>\n",
       "      <td>5.550282</td>\n",
       "      <td>3.332205</td>\n",
       "    </tr>\n",
       "    <tr>\n",
       "      <th>2013-01-03</th>\n",
       "      <td>72.370116</td>\n",
       "      <td>2.606054</td>\n",
       "      <td>258.48</td>\n",
       "      <td>9.307886</td>\n",
       "      <td>300.95</td>\n",
       "      <td>27.77</td>\n",
       "      <td>25.326428</td>\n",
       "      <td>26.683073</td>\n",
       "      <td>30.277644</td>\n",
       "      <td>41.266437</td>\n",
       "      <td>1.362934</td>\n",
       "      <td>4.281793</td>\n",
       "      <td>5.554818</td>\n",
       "      <td>3.323956</td>\n",
       "    </tr>\n",
       "    <tr>\n",
       "      <th>2013-01-04</th>\n",
       "      <td>70.354805</td>\n",
       "      <td>2.446273</td>\n",
       "      <td>259.15</td>\n",
       "      <td>9.010779</td>\n",
       "      <td>300.18</td>\n",
       "      <td>28.76</td>\n",
       "      <td>25.573066</td>\n",
       "      <td>26.837283</td>\n",
       "      <td>30.459206</td>\n",
       "      <td>41.491221</td>\n",
       "      <td>1.362190</td>\n",
       "      <td>4.253551</td>\n",
       "      <td>5.557407</td>\n",
       "      <td>3.358986</td>\n",
       "    </tr>\n",
       "    <tr>\n",
       "      <th>2013-01-07</th>\n",
       "      <td>69.940953</td>\n",
       "      <td>2.377327</td>\n",
       "      <td>268.46</td>\n",
       "      <td>9.125085</td>\n",
       "      <td>299.59</td>\n",
       "      <td>29.42</td>\n",
       "      <td>25.611755</td>\n",
       "      <td>26.851740</td>\n",
       "      <td>30.597539</td>\n",
       "      <td>41.856493</td>\n",
       "      <td>1.367969</td>\n",
       "      <td>4.247651</td>\n",
       "      <td>5.592702</td>\n",
       "      <td>3.381675</td>\n",
       "    </tr>\n",
       "    <tr>\n",
       "      <th>2013-01-08</th>\n",
       "      <td>70.129189</td>\n",
       "      <td>2.413255</td>\n",
       "      <td>266.38</td>\n",
       "      <td>9.166552</td>\n",
       "      <td>297.76</td>\n",
       "      <td>29.06</td>\n",
       "      <td>25.340936</td>\n",
       "      <td>26.803549</td>\n",
       "      <td>30.087436</td>\n",
       "      <td>40.849652</td>\n",
       "      <td>1.357698</td>\n",
       "      <td>4.250339</td>\n",
       "      <td>5.584924</td>\n",
       "      <td>3.369363</td>\n",
       "    </tr>\n",
       "  </tbody>\n",
       "</table>\n",
       "</div>"
      ],
      "text/plain": [
       "                 AAPL   AAPL/FB    AMZN   AMZN/FB     CMG     FB        NKE  \\\n",
       "Date                                                                          \n",
       "2013-01-02  73.295822  2.617708  257.31  9.189643  301.06  28.00  25.070117   \n",
       "2013-01-03  72.370116  2.606054  258.48  9.307886  300.95  27.77  25.326428   \n",
       "2013-01-04  70.354805  2.446273  259.15  9.010779  300.18  28.76  25.573066   \n",
       "2013-01-07  69.940953  2.377327  268.46  9.125085  299.59  29.42  25.611755   \n",
       "2013-01-08  70.129189  2.413255  266.38  9.166552  297.76  29.06  25.340936   \n",
       "\n",
       "                 SBUX          T         VZ      VZ/T  ln(AAPL)  ln(AMZN)  \\\n",
       "Date                                                                        \n",
       "2013-01-02  26.504768  30.260352  41.463123  1.370213  4.294504  5.550282   \n",
       "2013-01-03  26.683073  30.277644  41.266437  1.362934  4.281793  5.554818   \n",
       "2013-01-04  26.837283  30.459206  41.491221  1.362190  4.253551  5.557407   \n",
       "2013-01-07  26.851740  30.597539  41.856493  1.367969  4.247651  5.592702   \n",
       "2013-01-08  26.803549  30.087436  40.849652  1.357698  4.250339  5.584924   \n",
       "\n",
       "              ln(FB)  \n",
       "Date                  \n",
       "2013-01-02  3.332205  \n",
       "2013-01-03  3.323956  \n",
       "2013-01-04  3.358986  \n",
       "2013-01-07  3.381675  \n",
       "2013-01-08  3.369363  "
      ]
     },
     "execution_count": 4,
     "metadata": {},
     "output_type": "execute_result"
    }
   ],
   "source": [
    "bundle.head()"
   ]
  },
  {
   "cell_type": "code",
   "execution_count": 5,
   "metadata": {
    "collapsed": true
   },
   "outputs": [],
   "source": [
    "bundle.to_csv('bundle.csv')"
   ]
  },
  {
   "cell_type": "markdown",
   "metadata": {},
   "source": [
    "### Tests"
   ]
  },
  {
   "cell_type": "code",
   "execution_count": 7,
   "metadata": {
    "collapsed": false
   },
   "outputs": [],
   "source": [
    "assert len(bundle.columns) == 14\n",
    "assert bundle.isnull().sum().sum() == 0"
   ]
  }
 ],
 "metadata": {
  "kernelspec": {
   "display_name": "Python 3",
   "language": "python",
   "name": "python3"
  },
  "language_info": {
   "codemirror_mode": {
    "name": "ipython",
    "version": 3
   },
   "file_extension": ".py",
   "mimetype": "text/x-python",
   "name": "python",
   "nbconvert_exporter": "python",
   "pygments_lexer": "ipython3",
   "version": "3.4.3"
  }
 },
 "nbformat": 4,
 "nbformat_minor": 0
}
