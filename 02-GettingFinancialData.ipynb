{
 "cells": [
  {
   "cell_type": "markdown",
   "metadata": {},
   "source": [
    "# Getting The Data\n",
    "\n",
    "#### Brian Bahmanyar\n"
   ]
  },
  {
   "cell_type": "markdown",
   "metadata": {},
   "source": [
    "___"
   ]
  },
  {
   "cell_type": "markdown",
   "metadata": {},
   "source": [
    "[Quandl](https://www.quandl.com) provides free daily financial data which will be used in the analyses to come. They also provide a free, but somewhat lackluster Python API."
   ]
  },
  {
   "cell_type": "code",
   "execution_count": 24,
   "metadata": {
    "collapsed": true
   },
   "outputs": [],
   "source": [
    "import numpy as np\n",
    "import pandas as pd\n",
    "import Quandl"
   ]
  },
  {
   "cell_type": "markdown",
   "metadata": {},
   "source": [
    "Below is a function written to serve as a wrapper around Quandl's Python API and provide some needed functionality."
   ]
  },
  {
   "cell_type": "code",
   "execution_count": 50,
   "metadata": {
    "collapsed": true
   },
   "outputs": [],
   "source": [
    "def get_adj_close(tickers, start, end=\"\", ratios=[], log_transforms=[]):\n",
    "    \"\"\"\n",
    "    Args:\n",
    "        tickers (list): collection of ticker symbols for which to collect adj. close \n",
    "                daily prices for\n",
    "        start (string, format: 2013-01-01): start date for which to collect prices after\n",
    "        end (string, format: 2013-01-01): optional end date, today if not specified\n",
    "        ratios (list): collection of tuples of tickers from 'tickers' list to calculate \n",
    "                price ratios for (the stock with larger mean is numerator)\n",
    "        log_transforms (list): collection of tickers from 'tickers' to include additional \n",
    "                natural log transformed copies\n",
    "    \n",
    "    Returns (dataframe): all adj. close prices, ratios, and log transforms specified\n",
    "    \"\"\" \n",
    "    result = {}\n",
    "    \n",
    "    for ticker in tickers:\n",
    "        try:\n",
    "            result[ticker] = Quandl.get('WIKI/'+ticker, trim_start=start, trim_end=end)['Adj. Close']\n",
    "        except DatasetNotFound:\n",
    "            print('ERROR:')\n",
    "            print(ticker, 'is not a vaild ticker')\n",
    "\n",
    "    for ratio in ratios:\n",
    "        try:\n",
    "            ticker1, ticker2 = ratio\n",
    "            if result[ticker1].mean() > result[ticker2].mean():\n",
    "                result[ticker1+'/'+ticker2] = result[ticker1]/result[ticker2]\n",
    "            else:\n",
    "                result[ticker2+'/'+ticker1] = result[ticker2]/result[ticker1]\n",
    "        except KeyError:\n",
    "            print('ERROR:')\n",
    "            print(ticker1, 'or', ticker2, 'are not in the list of specified tickers')\n",
    "    \n",
    "    for log_transform in log_transforms:\n",
    "        try:\n",
    "            result['ln('+log_transform+')'] = np.log(result[log_transform])\n",
    "        except KeyError:\n",
    "            print('ERROR:')\n",
    "            print(log_transform, 'is not in the list of specified tickers')\n",
    "    \n",
    "    return pd.DataFrame(result).dropna() # drop na here because of differences in lenght of history for stocks"
   ]
  },
  {
   "cell_type": "markdown",
   "metadata": {},
   "source": [
    "A copy of this function is placed into api_wrapper.py for use in other notebooks."
   ]
  },
  {
   "cell_type": "markdown",
   "metadata": {},
   "source": [
    "***"
   ]
  },
  {
   "cell_type": "markdown",
   "metadata": {},
   "source": [
    "### Usage"
   ]
  },
  {
   "cell_type": "code",
   "execution_count": 42,
   "metadata": {
    "collapsed": true
   },
   "outputs": [],
   "source": [
    "portfolio = get_adj_close( ['FB', 'AMZN', 'CMG'], \n",
    "                           start='2013-01-01', \n",
    "                           ratios=[('FB','AMZN'), ('FB','CMG')],\n",
    "                           log_transforms=['FB', 'CMG'] )"
   ]
  },
  {
   "cell_type": "code",
   "execution_count": 49,
   "metadata": {
    "collapsed": false
   },
   "outputs": [
    {
     "data": {
      "text/html": [
       "<div>\n",
       "<table border=\"1\" class=\"dataframe\">\n",
       "  <thead>\n",
       "    <tr style=\"text-align: right;\">\n",
       "      <th></th>\n",
       "      <th>AMZN</th>\n",
       "      <th>AMZN/FB</th>\n",
       "      <th>CMG</th>\n",
       "      <th>CMG/FB</th>\n",
       "      <th>FB</th>\n",
       "      <th>ln(CMG)</th>\n",
       "      <th>ln(FB)</th>\n",
       "    </tr>\n",
       "    <tr>\n",
       "      <th>Date</th>\n",
       "      <th></th>\n",
       "      <th></th>\n",
       "      <th></th>\n",
       "      <th></th>\n",
       "      <th></th>\n",
       "      <th></th>\n",
       "      <th></th>\n",
       "    </tr>\n",
       "  </thead>\n",
       "  <tbody>\n",
       "    <tr>\n",
       "      <th>2013-01-02</th>\n",
       "      <td>257.31</td>\n",
       "      <td>9.189643</td>\n",
       "      <td>301.06</td>\n",
       "      <td>10.752143</td>\n",
       "      <td>28.00</td>\n",
       "      <td>5.707310</td>\n",
       "      <td>3.332205</td>\n",
       "    </tr>\n",
       "    <tr>\n",
       "      <th>2013-01-03</th>\n",
       "      <td>258.48</td>\n",
       "      <td>9.307886</td>\n",
       "      <td>300.95</td>\n",
       "      <td>10.837234</td>\n",
       "      <td>27.77</td>\n",
       "      <td>5.706944</td>\n",
       "      <td>3.323956</td>\n",
       "    </tr>\n",
       "    <tr>\n",
       "      <th>2013-01-04</th>\n",
       "      <td>259.15</td>\n",
       "      <td>9.010779</td>\n",
       "      <td>300.18</td>\n",
       "      <td>10.437413</td>\n",
       "      <td>28.76</td>\n",
       "      <td>5.704382</td>\n",
       "      <td>3.358986</td>\n",
       "    </tr>\n",
       "    <tr>\n",
       "      <th>2013-01-07</th>\n",
       "      <td>268.46</td>\n",
       "      <td>9.125085</td>\n",
       "      <td>299.59</td>\n",
       "      <td>10.183209</td>\n",
       "      <td>29.42</td>\n",
       "      <td>5.702415</td>\n",
       "      <td>3.381675</td>\n",
       "    </tr>\n",
       "    <tr>\n",
       "      <th>2013-01-08</th>\n",
       "      <td>266.38</td>\n",
       "      <td>9.166552</td>\n",
       "      <td>297.76</td>\n",
       "      <td>10.246387</td>\n",
       "      <td>29.06</td>\n",
       "      <td>5.696288</td>\n",
       "      <td>3.369363</td>\n",
       "    </tr>\n",
       "  </tbody>\n",
       "</table>\n",
       "</div>"
      ],
      "text/plain": [
       "              AMZN   AMZN/FB     CMG     CMG/FB     FB   ln(CMG)    ln(FB)\n",
       "Date                                                                      \n",
       "2013-01-02  257.31  9.189643  301.06  10.752143  28.00  5.707310  3.332205\n",
       "2013-01-03  258.48  9.307886  300.95  10.837234  27.77  5.706944  3.323956\n",
       "2013-01-04  259.15  9.010779  300.18  10.437413  28.76  5.704382  3.358986\n",
       "2013-01-07  268.46  9.125085  299.59  10.183209  29.42  5.702415  3.381675\n",
       "2013-01-08  266.38  9.166552  297.76  10.246387  29.06  5.696288  3.369363"
      ]
     },
     "execution_count": 49,
     "metadata": {},
     "output_type": "execute_result"
    }
   ],
   "source": [
    "portfolio.head()"
   ]
  },
  {
   "cell_type": "markdown",
   "metadata": {},
   "source": [
    "### Tests"
   ]
  },
  {
   "cell_type": "code",
   "execution_count": 45,
   "metadata": {
    "collapsed": true
   },
   "outputs": [],
   "source": [
    "assert len(portfolio.columns) == 7\n",
    "assert portfolio.isnull().sum().sum() == 0"
   ]
  }
 ],
 "metadata": {
  "kernelspec": {
   "display_name": "Python 3",
   "language": "python",
   "name": "python3"
  },
  "language_info": {
   "codemirror_mode": {
    "name": "ipython",
    "version": 3
   },
   "file_extension": ".py",
   "mimetype": "text/x-python",
   "name": "python",
   "nbconvert_exporter": "python",
   "pygments_lexer": "ipython3",
   "version": "3.5.1"
  }
 },
 "nbformat": 4,
 "nbformat_minor": 0
}
