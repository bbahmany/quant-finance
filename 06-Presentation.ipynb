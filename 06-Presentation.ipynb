{
 "cells": [
  {
   "cell_type": "markdown",
   "metadata": {},
   "source": [
    "# Modeling Stock Movement and Algorithmic Trading\n",
    "Brian Bahmanyar"
   ]
  },
  {
   "cell_type": "markdown",
   "metadata": {},
   "source": [
    "***"
   ]
  },
  {
   "cell_type": "markdown",
   "metadata": {},
   "source": [
    "## Introduction"
   ]
  },
  {
   "cell_type": "markdown",
   "metadata": {},
   "source": [
    "* Understanding the movement of markets and stocks is fundamentally a very difficult problem.\n",
    "    * Human behavior is unpredictable\n",
    "* The goal of this project is outpreform the Standard and Poor's 500 which historically yeilds an average return of about 10%.\n",
    "    * To do this we exploite patterns in stock movement"
   ]
  },
  {
   "cell_type": "markdown",
   "metadata": {},
   "source": [
    "## Exploring a Single Stock"
   ]
  },
  {
   "cell_type": "code",
   "execution_count": null,
   "metadata": {
    "collapsed": true
   },
   "outputs": [],
   "source": [
    "import pandas as pd\n",
    "import sys\n",
    "\n",
    "sys.path.append('./src/')\n",
    "from plots import *\n",
    "from random_walk_forcast import *\n",
    "from pairs_trade import *"
   ]
  },
  {
   "cell_type": "code",
   "execution_count": null,
   "metadata": {
    "collapsed": true
   },
   "outputs": [],
   "source": [
    "%matplotlib inline"
   ]
  },
  {
   "cell_type": "code",
   "execution_count": null,
   "metadata": {
    "collapsed": false
   },
   "outputs": [],
   "source": [
    "tech = pd.read_csv('data/tech_bundle.csv', index_col=0)\n",
    "tech.index = pd.to_datetime(tech.index)"
   ]
  },
  {
   "cell_type": "code",
   "execution_count": null,
   "metadata": {
    "collapsed": false
   },
   "outputs": [],
   "source": [
    "plot_stocks(tech.index, [tech['AMZN']], ['Amazon'], label_annually=False )"
   ]
  },
  {
   "cell_type": "markdown",
   "metadata": {},
   "source": [
    "* We see an obvious general positive trend, but we want to get a more granular look at returns"
   ]
  },
  {
   "cell_type": "markdown",
   "metadata": {},
   "source": [
    "## Modeling Daily Returns"
   ]
  },
  {
   "cell_type": "markdown",
   "metadata": {},
   "source": [
    "* Consider $\\frac{y_t}{y_{t-1}}$"
   ]
  },
  {
   "cell_type": "markdown",
   "metadata": {},
   "source": [
    "Lets use MLE to fit the appropriate distribution."
   ]
  },
  {
   "cell_type": "code",
   "execution_count": null,
   "metadata": {
    "collapsed": false
   },
   "outputs": [],
   "source": [
    "plt.figure(figsize=(15,5));\n",
    "plt.title(\"Amazon's Daily Return Ratio\");\n",
    "plt.xlabel('Return Ratio');\n",
    "plt.ylabel('Count');\n",
    "sns.distplot(get_daily_return_ratio(tech['AMZN'].values), kde=False);"
   ]
  },
  {
   "cell_type": "code",
   "execution_count": null,
   "metadata": {
    "collapsed": false
   },
   "outputs": [],
   "source": [
    "fit = mle_log_norm(get_daily_return_ratio(tech['AMZN'].values))\n",
    "fit"
   ]
  },
  {
   "cell_type": "code",
   "execution_count": null,
   "metadata": {
    "collapsed": false
   },
   "outputs": [],
   "source": [
    "plt.figure(figsize=(15,5));\n",
    "plt.title(r'$LogN(0.0017, 0.00054)$');\n",
    "plt.xlabel('Return Ratio');\n",
    "plt.ylabel('Count');\n",
    "sns.distplot(np.random.lognormal(fit[0], np.sqrt(fit[1]), size=1000000));"
   ]
  },
  {
   "cell_type": "markdown",
   "metadata": {},
   "source": [
    "#### Simulating Forcast"
   ]
  },
  {
   "cell_type": "code",
   "execution_count": null,
   "metadata": {
    "collapsed": false
   },
   "outputs": [],
   "source": [
    "plot_simulated_forcast(tech['AMZN'], window=100, ahead=135, train_on=650, n=10);"
   ]
  },
  {
   "cell_type": "markdown",
   "metadata": {},
   "source": [
    "#### Deriving a K step ahead forcast:"
   ]
  },
  {
   "cell_type": "markdown",
   "metadata": {},
   "source": [
    "* __Expected Value__"
   ]
  },
  {
   "cell_type": "markdown",
   "metadata": {},
   "source": [
    "$\\mathrm{E}[LogN(\\mu, \\sigma^2)] = e^{\\mu+\\sigma^2/2}$"
   ]
  },
  {
   "cell_type": "markdown",
   "metadata": {},
   "source": [
    "$\\frac{Y_t}{Y_{t-1}} \\sim LogN(\\mu, \\sigma^2)$ $\\Rightarrow$   $\\hat{Y_{t+1}} = Y_{t} \\cdot \\mathrm{E}[LogN(\\mu, \\sigma^2)]$ "
   ]
  },
  {
   "cell_type": "markdown",
   "metadata": {},
   "source": [
    "$\\hat{Y_{t+k}} = Y_{t+(k-1)} \\cdot \\mathrm{E}[LogN(\\mu, \\sigma^2)]$ $\\Rightarrow$ $\\hat{Y_{t+k}} = Y_t \\cdot \\mathrm{E}[LogN(\\mu, \\sigma^2)]^k$"
   ]
  },
  {
   "cell_type": "markdown",
   "metadata": {},
   "source": [
    "* __Varience__"
   ]
  },
  {
   "cell_type": "markdown",
   "metadata": {},
   "source": [
    "$\\mathrm{E}[LogN(\\mu, \\sigma^2)] = (e^{\\sigma^2}\\!\\!-1) e^{2\\mu+\\sigma^2}$"
   ]
  },
  {
   "cell_type": "markdown",
   "metadata": {},
   "source": [
    "Suppose $Z$ $\\sim$  $LogN(\\mu, \\sigma^2)$"
   ]
  },
  {
   "cell_type": "markdown",
   "metadata": {},
   "source": [
    "$\\mathrm{V}[Y_{t+k}|Y_t] = \\mathrm{E}[Y^2_{t+k}|Y_t] - \\mathrm{E}[Y_{t+k}|Y_t]^2$"
   ]
  },
  {
   "cell_type": "markdown",
   "metadata": {},
   "source": [
    "$\\mathrm{V}[Y_{t+k}|Y_t] = Y^2_t \\cdot \\mathrm{E}[Z^2_{t+1}]^k - Y^2_t \\cdot \\mathrm{E}[Z_{t+1}]^{2k}$"
   ]
  },
  {
   "cell_type": "markdown",
   "metadata": {},
   "source": [
    "$\\mathrm{V}[Y_{t+k}|Y_t] = Y^2_t \\cdot [\\mathrm{E}[Z^2_{t+1}]^k - \\cdot \\mathrm{E}[Z_{t+1}]^{2k}]$ "
   ]
  },
  {
   "cell_type": "markdown",
   "metadata": {},
   "source": [
    "$\\mathrm{V}[Y_{t+k}|Y_t] = Y^2_t \\cdot [(\\mathrm{V}[Z_{t+1}] + \\mathrm{E}[Z_{t+1}]^{2})^k - \\mathrm{E}[Z_{t+1}]^{2k}]$ defined as a function below"
   ]
  },
  {
   "cell_type": "code",
   "execution_count": null,
   "metadata": {
    "collapsed": false
   },
   "outputs": [],
   "source": [
    "plot_expected_forcast(tech['AMZN'], window=30, ahead=150, train_on=635, error=2)"
   ]
  },
  {
   "cell_type": "markdown",
   "metadata": {},
   "source": [
    "## Pairs Trade Algorithm"
   ]
  },
  {
   "cell_type": "code",
   "execution_count": null,
   "metadata": {
    "collapsed": true
   },
   "outputs": [],
   "source": [
    "pairs = pd.read_csv('data/pairs_bundle.csv', index_col=0)\n",
    "pairs.index = pd.to_datetime(pairs.index)"
   ]
  },
  {
   "cell_type": "code",
   "execution_count": null,
   "metadata": {
    "collapsed": false
   },
   "outputs": [],
   "source": [
    "plot_pair(pairs['CVX'], pairs['XOM'], ['Chevron','Exxon'])"
   ]
  },
  {
   "cell_type": "code",
   "execution_count": null,
   "metadata": {
    "collapsed": false
   },
   "outputs": [],
   "source": [
    "positions_gas = identify_positions(pairs['CVX/XOM'], 1)\n",
    "plot_ratio(pairs['CVX/XOM'], 'Chevron, Exxon', deviations=[1], positions=positions_gas)"
   ]
  },
  {
   "cell_type": "code",
   "execution_count": null,
   "metadata": {
    "collapsed": true
   },
   "outputs": [],
   "source": [
    "def back_trade(init_investment, numer_prices, denom_prices, ratio, positions, swap_count=50):\n",
    "\n",
    "    \"\"\"\n",
    "    Back trades with the given positions\n",
    "    \n",
    "    Args: init_investment (int)----initial total investment\n",
    "          numer_prices (ndarray)---the series of the numerator stock w/ respect to the ratio\n",
    "          denom_prices (ndarry)----the series of the denominator stock w/ respect to the ratio\n",
    "          ratio (ndarray)----------the ratio of the series'\n",
    "          positions (list of maps)-the postions to trade on\n",
    "          swap_count (int)---------the number of stocks to swap at a given open position\n",
    "    Returns: (map) the result object\n",
    "    \"\"\"\n",
    "    cur_portfolio_value = init_investment\n",
    "    \n",
    "    \n",
    "    for position in positions:\n",
    "        if all(ratio[position['open']] > ratio.mean()):\n",
    "            openings = len(position['open'])\n",
    "            cur_portfolio_value += np.sum(swap_count*numer_prices[position['open']])\n",
    "            cur_portfolio_value -= np.sum(swap_count*denom_prices[position['open']])\n",
    "\n",
    "            cur_portfolio_value -= openings*swap_count*numer_prices[position['close']]\n",
    "            cur_portfolio_value += openings*swap_count*denom_prices[position['close']]\n",
    "        elif all(ratio[position['open']] < ratio.mean()):\n",
    "            openings = len(position['open'])\n",
    "            cur_portfolio_value -= np.sum(swap_count*numer_prices[position['open']])\n",
    "            cur_portfolio_value += np.sum(swap_count*denom_prices[position['open']])\n",
    "\n",
    "            cur_portfolio_value += openings*swap_count*numer_prices[position['close']]\n",
    "            cur_portfolio_value -= openings*swap_count*denom_prices[position['close']]\n",
    "    \n",
    "    return {'init_investment': init_investment,\n",
    "            'net_gain': cur_portfolio_value - init_investment,\n",
    "            'net_gain/year': (cur_portfolio_value - init_investment) / (len(ratio) / 252) } # 252 trade days / year"
   ]
  },
  {
   "cell_type": "code",
   "execution_count": null,
   "metadata": {
    "collapsed": false
   },
   "outputs": [],
   "source": [
    "back_trade(10000, pairs['CVX'].values, pairs['XOM'].values, pairs['CVX/XOM'].values, positions_gas, 100)"
   ]
  }
 ],
 "metadata": {
  "kernelspec": {
   "display_name": "Python 3",
   "language": "python",
   "name": "python3"
  },
  "language_info": {
   "codemirror_mode": {
    "name": "ipython",
    "version": 3
   },
   "file_extension": ".py",
   "mimetype": "text/x-python",
   "name": "python",
   "nbconvert_exporter": "python",
   "pygments_lexer": "ipython3",
   "version": "3.5.1"
  }
 },
 "nbformat": 4,
 "nbformat_minor": 0
}
